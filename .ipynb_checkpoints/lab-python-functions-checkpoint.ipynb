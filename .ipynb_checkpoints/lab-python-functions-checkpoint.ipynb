{
 "cells": [
  {
   "cell_type": "markdown",
   "id": "25d7736c-ba17-4aff-b6bb-66eba20fbf4e",
   "metadata": {},
   "source": [
    "# Lab | Functions"
   ]
  },
  {
   "cell_type": "markdown",
   "id": "0c581062-8967-4d93-b06e-62833222f930",
   "metadata": {
    "tags": []
   },
   "source": [
    "## Exercise: Managing Customer Orders with Functions\n",
    "\n",
    "In the previous exercise, you improved the code for managing customer orders by using loops and flow control. Now, let's take it a step further and refactor the code by introducing functions.\n",
    "\n",
    "Follow the steps below to complete the exercise:\n",
    "\n",
    "1. Define a function named `initialize_inventory` that takes `products` as a parameter. Inside the function, implement the code for initializing the inventory dictionary using a loop and user input.\n",
    "\n",
    "2. Define a function named `get_customer_orders` that takes no parameters. Inside the function, implement the code for prompting the user to enter the product names using a loop. The function should return the `customer_orders` set.\n",
    "\n",
    "3. Define a function named `update_inventory` that takes `customer_orders` and `inventory` as parameters. Inside the function, implement the code for updating the inventory dictionary based on the customer orders.\n",
    "\n",
    "4. Define a function named `calculate_order_statistics` that takes `customer_orders` and `products` as parameters. Inside the function, implement the code for calculating the order statistics (total products ordered, and percentage of unique products ordered). The function should return these values.\n",
    "\n",
    "5. Define a function named `print_order_statistics` that takes `order_statistics` as a parameter. Inside the function, implement the code for printing the order statistics.\n",
    "\n",
    "6. Define a function named `print_updated_inventory` that takes `inventory` as a parameter. Inside the function, implement the code for printing the updated inventory.\n",
    "\n",
    "7. Call the functions in the appropriate sequence to execute the program and manage customer orders.\n",
    "\n",
    "Hints for functions:\n",
    "\n",
    "- Consider the input parameters required for each function and their return values.\n",
    "- Utilize function parameters and return values to transfer data between functions.\n",
    "- Test your functions individually to ensure they work correctly.\n",
    "\n",
    "\n"
   ]
  },
  {
   "cell_type": "code",
   "execution_count": 10,
   "id": "4a91c1d8",
   "metadata": {},
   "outputs": [],
   "source": [
    "products = [\"t-shirt\", \"mug\", \"hat\", \"book\", \"keychain\"]"
   ]
  },
  {
   "cell_type": "code",
   "execution_count": 19,
   "id": "7bfe3367",
   "metadata": {},
   "outputs": [],
   "source": [
    "#Answer to 1. I use a for loop to add values for the iterated keys. My way to fill the inventory library\n",
    "\n",
    "def initialize_inventory(products): \n",
    "    inventory = {}\n",
    "    \n",
    "    for i in products:\n",
    "        inventory[i] = int(input(f\"How many {i} are availables: \"))\n",
    "    \n",
    "    return inventory\n",
    "\n",
    "\n",
    "#Answer to 2. I use a while loop 1)detonate the first input 2)ask if the customer wants to add more products. All go to customer_order set\n",
    "\n",
    "def get_customer_orders():\n",
    "    customer_order = set()\n",
    "    \n",
    "    x = 0\n",
    "    \n",
    "    while x != 2:\n",
    "        if x == 0:\n",
    "            product = input(\"Write what you want from the list: \").lower()\n",
    "            customer_order.add(product)\n",
    "            x += 1\n",
    "        else:\n",
    "            question = input(\"Want to buy more? (y/n): \").lower()\n",
    "            \n",
    "            if question == \"y\":\n",
    "                product = input(\"Write what you want from the list: \").lower()\n",
    "                customer_order.add(product)\n",
    "            elif question == \"n\":\n",
    "                return customer_order\n",
    "                break\n",
    "            else:\n",
    "                print(\"Please, enter y or no\")\n",
    "\n",
    "#Answer to 3. The for loop helps me to substract each product ordered in customer_order to the previous inventory                \n",
    "                \n",
    "def update_inventory(customer_order, inventory):\n",
    "    \n",
    "    for i in customer_order:\n",
    "        if i in inventory:\n",
    "            inventory[i] -= 1\n",
    "    return inventory\n",
    "\n",
    "#Answer to 4. Using build functions and making an percentage operation I obtain the order statistics We were asked for.\n",
    "\n",
    "def calculate_order_statistics(customer_order, products):\n",
    "    \n",
    "    custom_len = len(customer_order)\n",
    "    products_len = len(products)\n",
    "    percent_order = (100*custom_len)/products_len\n",
    "    total_order = {\"Customer order\":custom_len}\n",
    "    percentage_ordered = {\"Percentage ordered\":percent_order}\n",
    "    order_statistics = (total_order, percentage_ordered)\n",
    "    \n",
    "    return order_statistics\n",
    "\n",
    "#Answer to 5. Doesn't work!! I can't make it run\n",
    "\n",
    "def print_order_statistics(o_statistics):\n",
    "    print(f\"You order a total of {total_order} products\")\n",
    "    print(f\"the percentage of products you ordered compared to the total number of items is: {percentage_ordered}\")\n",
    "\n",
    "#Answer to 6. Funtion to print the updated inventory    \n",
    "    \n",
    "def print_updated_inventory(inventory):\n",
    "    return print(inventory)"
   ]
  },
  {
   "cell_type": "code",
   "execution_count": 51,
   "id": "ad3bae76",
   "metadata": {
    "scrolled": true
   },
   "outputs": [
    {
     "name": "stdout",
     "output_type": "stream",
     "text": [
      "These are the articles in our shop: t-shirt, mug, hat, book, keychain\n",
      "How many t-shirt are availables: 5\n",
      "How many mug are availables: 5\n",
      "How many hat are availables: 5\n",
      "How many book are availables: 5\n",
      "How many keychain are availables: 5\n",
      "Write what you want from the list: mug\n",
      "Want to buy more? (y/n): hat\n",
      "Please, enter y or no\n",
      "Want to buy more? (y/n): y\n",
      "Write what you want from the list: book\n",
      "Want to buy more? (y/n): y\n",
      "Write what you want from the list: t-shirt\n",
      "Want to buy more? (y/n): n\n",
      "{'t-shirt': 4, 'mug': 4, 'hat': 5, 'book': 4, 'keychain': 5}\n"
     ]
    }
   ],
   "source": [
    "print(\"These are the articles in our shop: t-shirt, mug, hat, book, keychain\")\n",
    "products = [\"t-shirt\", \"mug\", \"hat\", \"book\", \"keychain\"]\n",
    "inventory = initialize_inventory(products)\n",
    "customer_order = get_customer_orders()\n",
    "inventory = update_inventory(customer_order, inventory)\n",
    "o_statistics = calculate_order_statistics(customer_order, products)\n",
    "print_updated_inventory(inventory)"
   ]
  },
  {
   "cell_type": "code",
   "execution_count": 52,
   "id": "8a97de62",
   "metadata": {},
   "outputs": [],
   "source": [
    "# Answer 5 doesn't work for me. I tried to call the function but an error happends. I can't get it to recognize the parameters I use from the libraries.\n",
    "\n",
    "def print_order_statistics(o_statistics):\n",
    "    print(f\"You order a total of {total_order} products\")\n",
    "    print(f\"the percentage of products you ordered compared to the total number of items is: {percentage_ordered}\")"
   ]
  },
  {
   "cell_type": "code",
   "execution_count": 44,
   "id": "95903648",
   "metadata": {},
   "outputs": [
    {
     "ename": "NameError",
     "evalue": "name 'total_order' is not defined",
     "output_type": "error",
     "traceback": [
      "\u001b[1;31m---------------------------------------------------------------------------\u001b[0m",
      "\u001b[1;31mNameError\u001b[0m                                 Traceback (most recent call last)",
      "Cell \u001b[1;32mIn[44], line 1\u001b[0m\n\u001b[1;32m----> 1\u001b[0m print_order_statistics(o_statistics)\n",
      "Cell \u001b[1;32mIn[41], line 2\u001b[0m, in \u001b[0;36mprint_order_statistics\u001b[1;34m(o_statistics)\u001b[0m\n\u001b[0;32m      1\u001b[0m \u001b[38;5;28;01mdef\u001b[39;00m \u001b[38;5;21mprint_order_statistics\u001b[39m(o_statistics):\n\u001b[1;32m----> 2\u001b[0m     \u001b[38;5;28mprint\u001b[39m(\u001b[38;5;124mf\u001b[39m\u001b[38;5;124m\"\u001b[39m\u001b[38;5;124mYou order a total of \u001b[39m\u001b[38;5;132;01m{\u001b[39;00mtotal_order\u001b[38;5;132;01m}\u001b[39;00m\u001b[38;5;124m products\u001b[39m\u001b[38;5;124m\"\u001b[39m)\n\u001b[0;32m      3\u001b[0m     \u001b[38;5;28mprint\u001b[39m(\u001b[38;5;124mf\u001b[39m\u001b[38;5;124m\"\u001b[39m\u001b[38;5;124mthe percentage of products you ordered compared to the total number of items is: \u001b[39m\u001b[38;5;132;01m{\u001b[39;00mpercentage_ordered\u001b[38;5;132;01m}\u001b[39;00m\u001b[38;5;124m\"\u001b[39m)\n",
      "\u001b[1;31mNameError\u001b[0m: name 'total_order' is not defined"
     ]
    }
   ],
   "source": [
    "print_order_statistics(o_statistics)"
   ]
  }
 ],
 "metadata": {
  "kernelspec": {
   "display_name": "Python 3 (ipykernel)",
   "language": "python",
   "name": "python3"
  },
  "language_info": {
   "codemirror_mode": {
    "name": "ipython",
    "version": 3
   },
   "file_extension": ".py",
   "mimetype": "text/x-python",
   "name": "python",
   "nbconvert_exporter": "python",
   "pygments_lexer": "ipython3",
   "version": "3.11.5"
  }
 },
 "nbformat": 4,
 "nbformat_minor": 5
}
